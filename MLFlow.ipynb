{
 "cells": [
  {
   "cell_type": "code",
   "execution_count": 1,
   "metadata": {},
   "outputs": [
    {
     "name": "stderr",
     "output_type": "stream",
     "text": [
      "/usr/lib/python3/dist-packages/requests/__init__.py:89: RequestsDependencyWarning: urllib3 (2.2.2) or chardet (3.0.4) doesn't match a supported version!\n",
      "  warnings.warn(\"urllib3 ({}) or chardet ({}) doesn't match a supported \"\n"
     ]
    }
   ],
   "source": [
    "# main_script.py\n",
    "\n",
    "import mlflow\n",
    "import mlflow.keras\n",
    "import tensorflow as tf\n",
    "from tensorflow.keras.models import Sequential\n",
    "from tensorflow.keras.layers import Dense\n",
    "from tensorflow.keras.optimizers import Adam\n",
    "from sklearn.datasets import load_iris\n",
    "from sklearn.model_selection import train_test_split\n",
    "from sklearn.preprocessing import StandardScaler\n",
    "import numpy as np\n",
    "\n",
    "def load_and_preprocess_data():\n",
    "    iris = load_iris()\n",
    "    X, y = iris.data, iris.target\n",
    "    X_train, X_test, y_train, y_test = train_test_split(X, y, test_size=0.2, random_state=42)\n",
    "\n",
    "    scaler = StandardScaler()\n",
    "    X_train = scaler.fit_transform(X_train)\n",
    "    X_test = scaler.transform(X_test)\n",
    "\n",
    "    y_train = tf.keras.utils.to_categorical(y_train)\n",
    "    y_test = tf.keras.utils.to_categorical(y_test)\n",
    "\n",
    "    return X_train, X_test, y_train, y_test\n",
    "\n",
    "def create_model(input_shape, hidden_size, num_classes):\n",
    "    model = Sequential([\n",
    "        Dense(hidden_size, activation='relu', input_shape=input_shape),\n",
    "        Dense(num_classes, activation='softmax')\n",
    "    ])\n",
    "    return model\n",
    "\n",
    "def train_model(model, X_train, y_train, X_val, y_val, optimizer, batch_size, epochs):\n",
    "    model.compile(optimizer=optimizer, loss='categorical_crossentropy', metrics=['accuracy'])\n",
    "    history = model.fit(X_train, y_train, validation_data=(X_val, y_val),\n",
    "                        batch_size=batch_size, epochs=epochs, verbose=0)\n",
    "    return history\n",
    "\n",
    "def run_experiment(config):\n",
    "    mlflow.set_experiment(\"iris_tf_classification\")\n",
    "\n",
    "    with mlflow.start_run():\n",
    "        mlflow.log_params(config)\n",
    "        \n",
    "        X_train, X_test, y_train, y_test = load_and_preprocess_data()\n",
    "        \n",
    "        model = create_model((4,), config[\"hidden_size\"], 3)\n",
    "        optimizer = Adam(learning_rate=config[\"learning_rate\"])\n",
    "        \n",
    "        X_train_split, X_val, y_train_split, y_val = train_test_split(\n",
    "            X_train, y_train, test_size=0.2, random_state=42)\n",
    "        \n",
    "        history = train_model(model, X_train_split, y_train_split, X_val, y_val,\n",
    "                              optimizer, config[\"batch_size\"], config[\"epochs\"])\n",
    "        \n",
    "        train_loss, train_accuracy = model.evaluate(X_train, y_train, verbose=0)\n",
    "        test_loss, test_accuracy = model.evaluate(X_test, y_test, verbose=0)\n",
    "        \n",
    "        mlflow.log_metric(\"final_train_loss\", train_loss)\n",
    "        mlflow.log_metric(\"final_train_accuracy\", train_accuracy)\n",
    "        mlflow.log_metric(\"final_test_loss\", test_loss)\n",
    "        mlflow.log_metric(\"final_test_accuracy\", test_accuracy)\n",
    "        \n",
    "        mlflow.keras.log_model(model, \"model\")\n",
    "        \n",
    "        for epoch in range(config[\"epochs\"]):\n",
    "            mlflow.log_metrics({\n",
    "                \"train_loss\": history.history['loss'][epoch],\n",
    "                \"train_accuracy\": history.history['accuracy'][epoch],\n",
    "                \"val_loss\": history.history['val_loss'][epoch],\n",
    "                \"val_accuracy\": history.history['val_accuracy'][epoch]\n",
    "            }, step=epoch)\n",
    "        \n",
    "        summary = f\"Experiment Summary:\\n\"\n",
    "        summary += f\"  Config: {config}\\n\"\n",
    "        summary += f\"  Final Train Loss: {train_loss:.4f}, Accuracy: {train_accuracy:.4f}\\n\"\n",
    "        summary += f\"  Final Test Loss: {test_loss:.4f}, Accuracy: {test_accuracy:.4f}\\n\"\n",
    "        summary += f\"  Run ID: {mlflow.active_run().info.run_id}\\n\"\n",
    "        \n",
    "        with open(\"experiment_summary.txt\", \"w\") as f:\n",
    "            f.write(summary)\n",
    "        mlflow.log_artifact(\"experiment_summary.txt\")\n",
    "        \n",
    "        print(summary)\n",
    "\n",
    "    return train_accuracy, test_accuracy"
   ]
  },
  {
   "cell_type": "code",
   "execution_count": 2,
   "metadata": {},
   "outputs": [
    {
     "name": "stderr",
     "output_type": "stream",
     "text": [
      "2024/08/16 16:44:52 INFO mlflow.tracking.fluent: Experiment with name 'iris_tf_classification' does not exist. Creating a new experiment.\n",
      "2024/08/16 16:44:58 WARNING mlflow.tensorflow: You are saving a TensorFlow Core model or Keras model without a signature. Inference with mlflow.pyfunc.spark_udf() will not work unless the model's pyfunc representation accepts pandas DataFrames as inference inputs.\n"
     ]
    },
    {
     "name": "stdout",
     "output_type": "stream",
     "text": [
      "INFO:tensorflow:Assets written to: /tmp/tmp22hm99ya/model/data/model/assets\n"
     ]
    },
    {
     "name": "stderr",
     "output_type": "stream",
     "text": [
      "/usr/local/lib/python3.8/dist-packages/_distutils_hack/__init__.py:33: UserWarning: Setuptools is replacing distutils.\n",
      "  warnings.warn(\"Setuptools is replacing distutils.\")\n",
      "2024/08/16 16:45:03 WARNING mlflow.models.model: Input example should be provided to infer model signature if the model signature is not provided when logging the model.\n"
     ]
    },
    {
     "name": "stdout",
     "output_type": "stream",
     "text": [
      "Experiment Summary:\n",
      "  Config: {'hidden_size': 10, 'learning_rate': 0.01, 'batch_size': 32, 'epochs': 100}\n",
      "  Final Train Loss: 0.0710, Accuracy: 0.9833\n",
      "  Final Test Loss: 0.1058, Accuracy: 0.9667\n",
      "  Run ID: a54a6a72e68f40a4b78e58a8ef07b938\n",
      "\n",
      "Experiment completed. Final train accuracy: 0.9833, test accuracy: 0.9667\n"
     ]
    }
   ],
   "source": [
    "# experiment_1.py\n",
    "config = {\n",
    "    \"hidden_size\": 10,\n",
    "    \"learning_rate\": 0.01,\n",
    "    \"batch_size\": 32,\n",
    "    \"epochs\": 100\n",
    "}\n",
    "\n",
    "train_accuracy, test_accuracy = run_experiment(config)\n",
    "\n",
    "print(f\"Experiment completed. Final train accuracy: {train_accuracy:.4f}, test accuracy: {test_accuracy:.4f}\")"
   ]
  },
  {
   "cell_type": "code",
   "execution_count": null,
   "metadata": {},
   "outputs": [],
   "source": []
  },
  {
   "cell_type": "code",
   "execution_count": null,
   "metadata": {},
   "outputs": [],
   "source": [
    "# experiment_1.py\n",
    "config = {\n",
    "    \"hidden_size\": 10,\n",
    "    \"learning_rate\": 0.01,\n",
    "    \"batch_size\": 32,\n",
    "    \"epochs\": 100\n",
    "}\n",
    "\n",
    "train_accuracy, test_accuracy = run_experiment(config)\n",
    "\n",
    "print(f\"Experiment completed. Final train accuracy: {train_accuracy:.4f}, test accuracy: {test_accuracy:.4f}\")"
   ]
  },
  {
   "cell_type": "code",
   "execution_count": 3,
   "metadata": {},
   "outputs": [
    {
     "name": "stderr",
     "output_type": "stream",
     "text": [
      "2024/08/16 16:47:12 WARNING mlflow.tensorflow: You are saving a TensorFlow Core model or Keras model without a signature. Inference with mlflow.pyfunc.spark_udf() will not work unless the model's pyfunc representation accepts pandas DataFrames as inference inputs.\n"
     ]
    },
    {
     "name": "stdout",
     "output_type": "stream",
     "text": [
      "INFO:tensorflow:Assets written to: /tmp/tmphq1gl8m1/model/data/model/assets\n"
     ]
    },
    {
     "name": "stderr",
     "output_type": "stream",
     "text": [
      "2024/08/16 16:47:15 WARNING mlflow.models.model: Input example should be provided to infer model signature if the model signature is not provided when logging the model.\n"
     ]
    },
    {
     "name": "stdout",
     "output_type": "stream",
     "text": [
      "Experiment Summary:\n",
      "  Config: {'hidden_size': 20, 'learning_rate': 0.001, 'batch_size': 64, 'epochs': 200}\n",
      "  Final Train Loss: 0.2887, Accuracy: 0.9083\n",
      "  Final Test Loss: 0.2311, Accuracy: 0.9667\n",
      "  Run ID: 5b82482d34de470b8804a6a2c19317f8\n",
      "\n",
      "Experiment completed. Final train accuracy: 0.9083, test accuracy: 0.9667\n"
     ]
    },
    {
     "name": "stderr",
     "output_type": "stream",
     "text": [
      "2024/08/16 16:47:22 WARNING mlflow.tensorflow: You are saving a TensorFlow Core model or Keras model without a signature. Inference with mlflow.pyfunc.spark_udf() will not work unless the model's pyfunc representation accepts pandas DataFrames as inference inputs.\n"
     ]
    },
    {
     "name": "stdout",
     "output_type": "stream",
     "text": [
      "INFO:tensorflow:Assets written to: /tmp/tmpb89zwiro/model/data/model/assets\n"
     ]
    },
    {
     "name": "stderr",
     "output_type": "stream",
     "text": [
      "2024/08/16 16:47:25 WARNING mlflow.models.model: Input example should be provided to infer model signature if the model signature is not provided when logging the model.\n"
     ]
    },
    {
     "name": "stdout",
     "output_type": "stream",
     "text": [
      "Experiment Summary:\n",
      "  Config: {'hidden_size': 15, 'learning_rate': 0.005, 'batch_size': 32, 'epochs': 150}\n",
      "  Final Train Loss: 0.0702, Accuracy: 0.9833\n",
      "  Final Test Loss: 0.0940, Accuracy: 0.9667\n",
      "  Run ID: efc03bb5a3d44fc9aac8d93dc4c8a128\n",
      "\n",
      "Experiment completed. Final train accuracy: 0.9833, test accuracy: 0.9667\n"
     ]
    },
    {
     "name": "stderr",
     "output_type": "stream",
     "text": [
      "2024/08/16 16:47:34 WARNING mlflow.tensorflow: You are saving a TensorFlow Core model or Keras model without a signature. Inference with mlflow.pyfunc.spark_udf() will not work unless the model's pyfunc representation accepts pandas DataFrames as inference inputs.\n"
     ]
    },
    {
     "name": "stdout",
     "output_type": "stream",
     "text": [
      "INFO:tensorflow:Assets written to: /tmp/tmp5_1w2nv8/model/data/model/assets\n"
     ]
    },
    {
     "name": "stderr",
     "output_type": "stream",
     "text": [
      "2024/08/16 16:47:38 WARNING mlflow.models.model: Input example should be provided to infer model signature if the model signature is not provided when logging the model.\n"
     ]
    },
    {
     "name": "stdout",
     "output_type": "stream",
     "text": [
      "Experiment Summary:\n",
      "  Config: {'hidden_size': 25, 'learning_rate': 0.0005, 'batch_size': 64, 'epochs': 250}\n",
      "  Final Train Loss: 0.2854, Accuracy: 0.8667\n",
      "  Final Test Loss: 0.2274, Accuracy: 0.9333\n",
      "  Run ID: cceef0e764f04b79a32e25446283e3cd\n",
      "\n",
      "Experiment completed. Final train accuracy: 0.8667, test accuracy: 0.9333\n"
     ]
    },
    {
     "name": "stderr",
     "output_type": "stream",
     "text": [
      "2024/08/16 16:47:50 WARNING mlflow.tensorflow: You are saving a TensorFlow Core model or Keras model without a signature. Inference with mlflow.pyfunc.spark_udf() will not work unless the model's pyfunc representation accepts pandas DataFrames as inference inputs.\n"
     ]
    },
    {
     "name": "stdout",
     "output_type": "stream",
     "text": [
      "INFO:tensorflow:Assets written to: /tmp/tmprgqp5y88/model/data/model/assets\n"
     ]
    },
    {
     "name": "stderr",
     "output_type": "stream",
     "text": [
      "2024/08/16 16:47:53 WARNING mlflow.models.model: Input example should be provided to infer model signature if the model signature is not provided when logging the model.\n"
     ]
    },
    {
     "name": "stdout",
     "output_type": "stream",
     "text": [
      "Experiment Summary:\n",
      "  Config: {'hidden_size': 30, 'learning_rate': 0.0001, 'batch_size': 32, 'epochs': 300}\n",
      "  Final Train Loss: 0.5925, Accuracy: 0.8583\n",
      "  Final Test Loss: 0.5666, Accuracy: 0.9000\n",
      "  Run ID: 9379a54ebe9b4347acac6186372a0376\n",
      "\n",
      "Experiment completed. Final train accuracy: 0.8583, test accuracy: 0.9000\n"
     ]
    }
   ],
   "source": [
    "# Experiment configurations\n",
    "experiments = [\n",
    "    {\"hidden_size\": 20, \"learning_rate\": 0.001, \"batch_size\": 64, \"epochs\": 200},\n",
    "    {\"hidden_size\": 15, \"learning_rate\": 0.005, \"batch_size\": 32, \"epochs\": 150},\n",
    "    {\"hidden_size\": 25, \"learning_rate\": 0.0005, \"batch_size\": 64, \"epochs\": 250},\n",
    "    {\"hidden_size\": 30, \"learning_rate\": 0.0001, \"batch_size\": 32, \"epochs\": 300}\n",
    "]\n",
    "\n",
    "for config in experiments:\n",
    "    train_accuracy, test_accuracy = run_experiment(config)\n",
    "\n",
    "    print(f\"Experiment completed. Final train accuracy: {train_accuracy:.4f}, test accuracy: {test_accuracy:.4f}\")"
   ]
  }
 ],
 "metadata": {
  "kernelspec": {
   "display_name": "Python 3",
   "language": "python",
   "name": "python3"
  },
  "language_info": {
   "codemirror_mode": {
    "name": "ipython",
    "version": 3
   },
   "file_extension": ".py",
   "mimetype": "text/x-python",
   "name": "python",
   "nbconvert_exporter": "python",
   "pygments_lexer": "ipython3",
   "version": "3.8.10"
  }
 },
 "nbformat": 4,
 "nbformat_minor": 2
}
